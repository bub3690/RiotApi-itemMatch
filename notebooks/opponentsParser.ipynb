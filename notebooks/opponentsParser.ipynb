{
 "cells": [
  {
   "cell_type": "code",
   "execution_count": 3,
   "id": "toxic-shepherd",
   "metadata": {},
   "outputs": [],
   "source": [
    "#ipynb 파일 불러오기 위해서\n",
    "#!pip install import_ipynb\n",
    "#import import_ipynb"
   ]
  },
  {
   "cell_type": "code",
   "execution_count": 29,
   "id": "encouraging-homeless",
   "metadata": {},
   "outputs": [
    {
     "name": "stdout",
     "output_type": "stream",
     "text": [
      "RiotApi init\n",
      "RGAPI-dfb5febb-10b2-4af8-a79c-f29d827a41b0\n",
      "1 처리중\n",
      "hTifeWIlITGLwPA4xghO7ckqpjm_rM2o2SgdHljkx8uEx97yphMYBX7-\n",
      "\n"
     ]
    },
    {
     "ename": "KeyError",
     "evalue": "'matches'",
     "output_type": "error",
     "traceback": [
      "\u001b[1;31m---------------------------------------------------------------------------\u001b[0m",
      "\u001b[1;31mKeyError\u001b[0m                                  Traceback (most recent call last)",
      "\u001b[1;32m<ipython-input-29-39938c778910>\u001b[0m in \u001b[0;36m<module>\u001b[1;34m\u001b[0m\n\u001b[0;32m     62\u001b[0m     \u001b[0mtest\u001b[0m \u001b[1;33m=\u001b[0m \u001b[0mopponentsParser\u001b[0m\u001b[1;33m(\u001b[0m\u001b[1;34m'RGAPI-dfb5febb-10b2-4af8-a79c-f29d827a41b0'\u001b[0m\u001b[1;33m)\u001b[0m\u001b[1;33m\u001b[0m\u001b[1;33m\u001b[0m\u001b[0m\n\u001b[0;32m     63\u001b[0m \u001b[1;33m\u001b[0m\u001b[0m\n\u001b[1;32m---> 64\u001b[1;33m     \u001b[0mgames_ids\u001b[0m\u001b[1;33m=\u001b[0m\u001b[0mtest\u001b[0m\u001b[1;33m.\u001b[0m\u001b[0mget_match_ids_test\u001b[0m\u001b[1;33m(\u001b[0m\u001b[1;33m)\u001b[0m\u001b[1;33m\u001b[0m\u001b[1;33m\u001b[0m\u001b[0m\n\u001b[0m",
      "\u001b[1;32m<ipython-input-29-39938c778910>\u001b[0m in \u001b[0;36mget_match_ids_test\u001b[1;34m(self)\u001b[0m\n\u001b[0;32m     46\u001b[0m             \u001b[0mprint\u001b[0m\u001b[1;33m(\u001b[0m\u001b[0mtest_index\u001b[0m\u001b[1;33m,\u001b[0m\u001b[1;34m\"처리중\"\u001b[0m\u001b[1;33m)\u001b[0m\u001b[1;33m\u001b[0m\u001b[1;33m\u001b[0m\u001b[0m\n\u001b[0;32m     47\u001b[0m             \u001b[0mprint\u001b[0m\u001b[1;33m(\u001b[0m\u001b[0mline\u001b[0m\u001b[1;33m)\u001b[0m\u001b[1;33m\u001b[0m\u001b[1;33m\u001b[0m\u001b[0m\n\u001b[1;32m---> 48\u001b[1;33m             \u001b[0mtemp_data\u001b[0m \u001b[1;33m=\u001b[0m\u001b[0mself\u001b[0m\u001b[1;33m.\u001b[0m\u001b[0mget_gameid_byAccountid\u001b[0m\u001b[1;33m(\u001b[0m\u001b[0mline\u001b[0m\u001b[1;33m.\u001b[0m\u001b[0mstrip\u001b[0m\u001b[1;33m(\u001b[0m\u001b[1;33m)\u001b[0m\u001b[1;33m)\u001b[0m\u001b[1;33m\u001b[0m\u001b[1;33m\u001b[0m\u001b[0m\n\u001b[0m\u001b[0;32m     49\u001b[0m             \u001b[0mgame_id_set\u001b[0m\u001b[1;33m.\u001b[0m\u001b[0mupdate\u001b[0m\u001b[1;33m(\u001b[0m\u001b[0mtemp_data\u001b[0m\u001b[1;33m)\u001b[0m\u001b[1;33m\u001b[0m\u001b[1;33m\u001b[0m\u001b[0m\n\u001b[0;32m     50\u001b[0m             \u001b[0mtest_index\u001b[0m\u001b[1;33m=\u001b[0m\u001b[0mtest_index\u001b[0m\u001b[1;33m+\u001b[0m\u001b[1;36m1\u001b[0m\u001b[1;33m\u001b[0m\u001b[1;33m\u001b[0m\u001b[0m\n",
      "\u001b[1;32mD:\\project\\RiotApi-itemMatch\\notebooks\\opponentsLOL.ipynb\u001b[0m in \u001b[0;36mget_gameid_byAccountid\u001b[1;34m(self, account_id)\u001b[0m\n",
      "\u001b[1;31mKeyError\u001b[0m: 'matches'"
     ]
    }
   ],
   "source": [
    "from opponentsLOL import RiotApi\n",
    "\n",
    "\n",
    "class opponentsParser(RiotApi):\n",
    "    \"\"\"\n",
    "    AUTHOR:이종법\n",
    "    DATE:2021-03-30\n",
    "    PURPOSE: RiotApi를 상속받아서, 해당 내용을 parsing하는 class\n",
    "    해당 클래스에서는 requests를 따로 안써도된다.\n",
    "    \n",
    "    \n",
    "    \"\"\"\n",
    "\n",
    "    \n",
    "    def __init__(self,apikey):\n",
    "        super().__init__(apikey)\n",
    "        \n",
    "        print(self._apikey)\n",
    "        \n",
    "    def timeline_to_items(self,match_ids):\n",
    "        \n",
    "        #match_id 들이 담긴 list에서 각각 타임라인을 호출한다.\n",
    "        #특정 타임라인에서 item 구매 이벤트들을 저장한다.\n",
    "        \n",
    "        \n",
    "        pass\n",
    "\n",
    "    def timeline_to_skills(self,timeline_data):\n",
    "        #특정 타임라인에서 skill levelup 이벤트들을 저장한다.\n",
    "        \n",
    "        pass    \n",
    "    \n",
    "\n",
    "    def get_match_ids_test(self):\n",
    "        # return [match_ids]\n",
    "        # test를 위해 작성된 코드. file을 읽어옴.\n",
    "        # file을 읽어서 account_id를 받아서. game_id를 받고. set로 game_id 중복을 제거하여 출력해준다.\n",
    "        \n",
    "        game_id_set = set() # game_id를 받아서, set에 모두 담아준다. 중복제거됨.\n",
    "        \n",
    "        f = open(\"./resource/account_ids.txt\", 'r')\n",
    "        test_index = 1\n",
    "        while True:\n",
    "            line = f.readline()\n",
    "            if not line: break\n",
    "            print(test_index,\"처리중\")\n",
    "            print(line)\n",
    "            temp_data =self.get_gameid_byAccountid(line.strip())\n",
    "            game_id_set.update(temp_data)\n",
    "            test_index=test_index+1\n",
    "        f.close()\n",
    "        print(game_id_set)\n",
    "        #with open(\"/resource/foo.txt\", \"w\") as f:\n",
    "        #    f.write(\"Life is too short, you need python\")\n",
    "        \n",
    "        \n",
    "\n",
    "\n",
    "    \n",
    "#단위 테스트\n",
    "if __name__ == '__main__':\n",
    "    test = opponentsParser('')\n",
    "    \n",
    "    games_ids=test.get_match_ids_test()"
   ]
  },
  {
   "cell_type": "code",
   "execution_count": null,
   "id": "connected-shanghai",
   "metadata": {},
   "outputs": [],
   "source": []
  }
 ],
 "metadata": {
  "kernelspec": {
   "display_name": "Python 3",
   "language": "python",
   "name": "python3"
  },
  "language_info": {
   "codemirror_mode": {
    "name": "ipython",
    "version": 3
   },
   "file_extension": ".py",
   "mimetype": "text/x-python",
   "name": "python",
   "nbconvert_exporter": "python",
   "pygments_lexer": "ipython3",
   "version": "3.8.8"
  }
 },
 "nbformat": 4,
 "nbformat_minor": 5
}
