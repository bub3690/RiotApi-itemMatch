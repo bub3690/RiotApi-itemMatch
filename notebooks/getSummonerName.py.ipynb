{
 "cells": [
  {
   "cell_type": "code",
   "execution_count": 11,
   "id": "composed-adolescent",
   "metadata": {},
   "outputs": [
    {
     "name": "stdout",
     "output_type": "stream",
     "text": [
      "RiotApi init\n",
      "1\n",
      "2\n",
      "3\n",
      "4\n",
      "5\n",
      "stop\n"
     ]
    }
   ],
   "source": [
    "import import_ipynb\n",
    "#RGAPI-a822c8e4-49e9-4cf2-8789-595846e13ab9\n",
    "#RGAPI-a822c8e4-49e9-4cf2-8789-595846e13ab9\n",
    "from opponentsLOL import RiotApi\n",
    "\n",
    "riotApi1=RiotApi('RGAPI-1db9d2d1-76ed-4991-9162-471b0b0cd030') #내 riotapi key 넣기\n",
    "\n",
    "#403 error : riot api 오류\n",
    "total_summoner = []\n",
    "\n",
    "\n",
    "for page in range(1,2000): # summoner 정보 2000페이지까지 돌리기\n",
    "    summoner_data = riotApi1.get_league(str(page)) # summoner_data에 페이지별 json데이터 가져오기\n",
    "    print(page)\n",
    "    if len(summoner_data) == 0: # json파일이 더이상 넘어오지 않을 경우 for문 종료\n",
    "        print('stop')\n",
    "        break\n",
    "    for items in summoner_data:\n",
    "        total_summoner.append(items['summonerName']+'\\n') # 공백으로 구분해서 받음\n",
    "\n",
    "with open('./resource/getSummonerName.txt','w',encoding='utf8') as f:\n",
    "    f.writelines(total_summoner)"
   ]
  }
 ],
 "metadata": {
  "kernelspec": {
   "display_name": "Python 3",
   "language": "python",
   "name": "python3"
  },
  "language_info": {
   "codemirror_mode": {
    "name": "ipython",
    "version": 3
   },
   "file_extension": ".py",
   "mimetype": "text/x-python",
   "name": "python",
   "nbconvert_exporter": "python",
   "pygments_lexer": "ipython3",
   "version": "3.8.8"
  }
 },
 "nbformat": 4,
 "nbformat_minor": 5
}
