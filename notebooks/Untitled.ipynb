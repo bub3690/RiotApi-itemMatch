{
 "cells": [
  {
   "cell_type": "code",
   "execution_count": 10,
   "id": "handmade-programmer",
   "metadata": {},
   "outputs": [
    {
     "name": "stdout",
     "output_type": "stream",
     "text": [
      "RiotApi init\n",
      "https://kr.api.riotgames.com/lol/match/v4/matchlists/by-account/hTifeWIlITGLwPA4xghO7ckqpjm_rM2o2SgdHljkx8uEx97yphMYBX7-?api_key=RGAPI-eb51ea2b-8c79-464d-9492-b9e42874bc81\n",
      "{'status': {'message': 'Bad Request - Exception decrypting hTifeWIlITGLwPA4xghO7ckqpjm_rM2o2SgdHljkx8uEx97yphMYBX7-', 'status_code': 400}}\n"
     ]
    },
    {
     "ename": "KeyError",
     "evalue": "'matches'",
     "output_type": "error",
     "traceback": [
      "\u001b[1;31m---------------------------------------------------------------------------\u001b[0m",
      "\u001b[1;31mKeyError\u001b[0m                                  Traceback (most recent call last)",
      "\u001b[1;32m<ipython-input-10-a18afb9d0206>\u001b[0m in \u001b[0;36m<module>\u001b[1;34m\u001b[0m\n\u001b[0;32m      6\u001b[0m \u001b[1;33m\u001b[0m\u001b[0m\n\u001b[0;32m      7\u001b[0m \u001b[1;33m\u001b[0m\u001b[0m\n\u001b[1;32m----> 8\u001b[1;33m \u001b[0mprint\u001b[0m\u001b[1;33m(\u001b[0m\u001b[0mriotApi1\u001b[0m\u001b[1;33m.\u001b[0m\u001b[0mget_gameid_byAccountid\u001b[0m\u001b[1;33m(\u001b[0m\u001b[1;34m'hTifeWIlITGLwPA4xghO7ckqpjm_rM2o2SgdHljkx8uEx97yphMYBX7-'\u001b[0m\u001b[1;33m)\u001b[0m\u001b[1;33m)\u001b[0m\u001b[1;33m\u001b[0m\u001b[1;33m\u001b[0m\u001b[0m\n\u001b[0m\u001b[0;32m      9\u001b[0m \u001b[1;31m#print(riotApi1.get_gameid_byAccountid('hTifeWIlITGLwPA4xghO7ckqpjm_rM2o2SgdHljkx8uEx97yphMYBX7-'))\u001b[0m\u001b[1;33m\u001b[0m\u001b[1;33m\u001b[0m\u001b[1;33m\u001b[0m\u001b[0m\n",
      "\u001b[1;32mD:\\project\\RiotApi-itemMatch\\notebooks\\opponentsLOL.ipynb\u001b[0m in \u001b[0;36mget_gameid_byAccountid\u001b[1;34m(self, account_id)\u001b[0m\n",
      "\u001b[1;31mKeyError\u001b[0m: 'matches'"
     ]
    }
   ],
   "source": [
    "import import_ipynb\n",
    "from opponentsLOL import RiotApi\n",
    "\n",
    "riotApi1=RiotApi('RGAPI-eb51ea2b-8c79-464d-9492-b9e42874bc81') #내 riotapi key 넣기\n",
    "#네이밍 다시 할거임\n",
    "\n",
    "\n",
    "print(riotApi1.get_gameid_byAccountid('hTifeWIlITGLwPA4xghO7ckqpjm_rM2o2SgdHljkx8uEx97yphMYBX7-'))\n",
    "#print(riotApi1.get_gameid_byAccountid('hTifeWIlITGLwPA4xghO7ckqpjm_rM2o2SgdHljkx8uEx97yphMYBX7-'))\n"
   ]
  }
 ],
 "metadata": {
  "kernelspec": {
   "display_name": "Python 3",
   "language": "python",
   "name": "python3"
  },
  "language_info": {
   "codemirror_mode": {
    "name": "ipython",
    "version": 3
   },
   "file_extension": ".py",
   "mimetype": "text/x-python",
   "name": "python",
   "nbconvert_exporter": "python",
   "pygments_lexer": "ipython3",
   "version": "3.8.8"
  }
 },
 "nbformat": 4,
 "nbformat_minor": 5
}
