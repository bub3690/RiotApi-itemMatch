{
 "cells": [
  {
   "cell_type": "code",
   "execution_count": 15,
   "id": "weekly-residence",
   "metadata": {},
   "outputs": [
    {
     "name": "stdout",
     "output_type": "stream",
     "text": [
      "RiotApi init\n",
      "{\"id\":\"3_PzfARZ1fOK5NEKAA6o711Wdr5_usC4uKqZMmhlE_z7EA\",\"accountId\":\"anXYP4yARxqIKeKuBd6F9FFDVQhPs-wr7uTZ4IE6NJp4\",\"puuid\":\"RhV9CBcTzyNArJhyiFMXYT-nOt8j4K8_cMjarSPdDscs0VP0_XvM0CFEi2NIgLNWAG7xLGL1G-ndkQ\",\"name\":\"종버버버\",\"profileIconId\":6,\"revisionDate\":1611883990000,\"summonerLevel\":37}\n"
     ]
    }
   ],
   "source": [
    "import requests\n",
    "import pandas\n",
    "import numpy\n",
    "\n",
    "class  RiotApi:\n",
    "    \"\"\"\n",
    "    AUTHOR:이종법\n",
    "    DATE:2021-03-19\n",
    "    PURPOSE: 라이엇API에서, MATCH-V4 , LEAGUE-EXP-V4 , SUMMONER-V4 를 불러오는 CLASS\n",
    "\n",
    "    \"\"\"\n",
    "    url='https://kr.api.riotgames.com'\n",
    "    url_summoner_v4 = '/lol/summoner/v4/summoners/by-name/' # + summonername\n",
    "    url_league_exp_v4='/lol/league-exp/v4/entries/RANKED_SOLO_5x5/GRANDMASTER/I?page='\n",
    "    #league_exp_v4는 ?page=페이지수&api_key={} 로 요청해야한다.\n",
    "    #단, 그랜드마스터 한정\n",
    "    url_match_v4_accountid = '/lol/match/v4/matchlists/by-account/' # + account_id?api_key=\n",
    "    url_match_v4_matchid = '/lol/match/v4/matches/' # + match_id?api_key=\n",
    "    query='?api_key='\n",
    "    query2='&api_key='\n",
    "    \n",
    "    def __init__(self,apikey,):\n",
    "        self._apikey=apikey\n",
    "        print(\"RiotApi init\")\n",
    "    \n",
    "    def get_summoner(self,summoner_name):\n",
    "        #소환사 이름만 입력해주면 작동한다.\n",
    "        return requests.get(RiotApi.url+\n",
    "                            RiotApi.url_summoner_v4+\n",
    "                            summoner_name+\n",
    "                            RiotApi.query+self._apikey)\n",
    "    \n",
    "    def get_league(self,page):\n",
    "        #페이지만 입력해주면 작동한다.\n",
    "        return requests.get(RiotApi.url+\n",
    "                            RiotApi.url_league_exp_v4+\n",
    "                            page+\n",
    "                            RiotApi.query2+self._apikey)\n",
    "    \n",
    "    def get_gameid(self,account_id):\n",
    "        #account_id를 받아서, 게임아이디를 출력하기 위해서 사용.\n",
    "        #match_v4 중 account_id를 받는것 사용.\n",
    "        \n",
    "        return requests.get(RiotApi.url+\n",
    "                            RiotApi.url_match_v4_accountid+\n",
    "                            RiotApi.account+\n",
    "                            RiotApi.query1+self._apikey)\n",
    "    \n",
    "\n",
    "if __name__ == '__main__':\n",
    "    #단위테스트\n",
    "    test = RiotApi(apikey=\"\")\n",
    "    print(test.get_summoner('종버버버').text)\n",
    "    summoner_name\n",
    "    \n",
    "    "
   ]
  }
 ],
 "metadata": {
  "kernelspec": {
   "display_name": "Python 3",
   "language": "python",
   "name": "python3"
  },
  "language_info": {
   "codemirror_mode": {
    "name": "ipython",
    "version": 3
   },
   "file_extension": ".py",
   "mimetype": "text/x-python",
   "name": "python",
   "nbconvert_exporter": "python",
   "pygments_lexer": "ipython3",
   "version": "3.8.8"
  }
 },
 "nbformat": 4,
 "nbformat_minor": 5
}
